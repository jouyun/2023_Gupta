{
 "cells": [
  {
   "cell_type": "code",
   "execution_count": 1,
   "id": "7e217f46",
   "metadata": {},
   "outputs": [],
   "source": [
    "import napari\n",
    "import scipy as sp\n",
    "from roifile import ROI_TYPE, ROI_OPTIONS, roiwrite\n",
    "from roifile import ImagejRoi\n",
    "import numpy as np\n",
    "import tifffile\n",
    "import scipy.ndimage as ndi\n",
    "from skimage.feature import peak_local_max\n",
    "import os\n",
    "import glob"
   ]
  },
  {
   "cell_type": "code",
   "execution_count": 2,
   "id": "90dfc521",
   "metadata": {},
   "outputs": [],
   "source": [
    "viewer = napari.Viewer()"
   ]
  },
  {
   "cell_type": "code",
   "execution_count": 3,
   "id": "14d457b1",
   "metadata": {},
   "outputs": [],
   "source": [
    "scale = [0.09, 0.031, 0.031]"
   ]
  },
  {
   "cell_type": "code",
   "execution_count": 4,
   "id": "71944725",
   "metadata": {},
   "outputs": [],
   "source": [
    "def find_peaks(img, threshold=0.1, display=False):\n",
    "    LoG = -ndi.gaussian_laplace(img/1000, sigma=[2,8,8])\n",
    "    max_peaks = peak_local_max(LoG, indices=True, min_distance=3, threshold_rel=threshold)\n",
    "    \n",
    "    if display:\n",
    "        viewer.add_image(LoG, blending='additive', colormap='magenta', scale=scale)\n",
    "        viewer.add_points(max_peaks, n_dimensional=True, size=6, scale=scale)\n",
    "    return max_peaks\n",
    "\n",
    "def pair_finder(peaks, max_dist=6, scale=[0.12, 0.04, 0.04]):\n",
    "    scaled_peaks = peaks.copy().astype(float)\n",
    "    scaled_peaks[:,0] = scaled_peaks[:,0] * scale[0]\n",
    "    scaled_peaks[:,1] = scaled_peaks[:,1] * scale[1]\n",
    "    scaled_peaks[:,2] = scaled_peaks[:,2] * scale[2]\n",
    "    \n",
    "    d_matrix = sp.spatial.distance.squareform(sp.spatial.distance.pdist(scaled_peaks))\n",
    "    d_matrix[d_matrix==0] = 10000\n",
    "    \n",
    "    min_pos = np.argmin(d_matrix, axis=0)\n",
    "    distances = np.min(d_matrix, axis=0)\n",
    "    sorte = np.argsort(distances)\n",
    "    \n",
    "    lst = []\n",
    "    for a in np.arange(0,len(sorte)):\n",
    "        if distances[sorte[a]]<max_dist:\n",
    "            if any([all (peaks[sorte[a]]==b) for b in lst]) | any([all(peaks[min_pos][sorte[a]]==b) for b in lst]):\n",
    "                lst\n",
    "            elif np.abs(peaks[sorte[a]][0]-peaks[min_pos][sorte[a]][0])>3:\n",
    "                lst\n",
    "            else:\n",
    "                lst.append(peaks[sorte[a]])\n",
    "                lst.append(peaks[min_pos][sorte[a]])\n",
    "    return lst\n",
    "\n",
    "def find_peaks_in_file(fname, display=False, threshold=0.16):\n",
    "    img = tifffile.imread(fname)\n",
    "    peaks = find_peaks(img[:,1,:,:], threshold=threshold, display=display)\n",
    "    filtered_peaks = pair_finder(peaks, max_dist=1.2, scale=scale)\n",
    "    \n",
    "    rois = []\n",
    "    for pt in filtered_peaks:\n",
    "        roi = ImagejRoi.frompoints([[pt[2],pt[1]]], z=(pt[0]), name='X'+str(pt[1]))\n",
    "        roi.roitype = ROI_TYPE.POINT\n",
    "        roi.options = ROI_OPTIONS.SHOW_LABELS\n",
    "        rois.append(roi)\n",
    "    zip_file = fname[0:-4]+'.zip'\n",
    "    if os.path.exists(zip_file):\n",
    "        os.remove(zip_file)\n",
    "    roiwrite(zip_file, rois)\n",
    "    if display:\n",
    "        viewer.add_image(img, channel_axis=1, scale=scale)\n",
    "        viewer.add_points(filtered_peaks, n_dimensional=True, size=6, scale=scale)"
   ]
  },
  {
   "cell_type": "code",
   "execution_count": 15,
   "id": "2dec2ca0",
   "metadata": {},
   "outputs": [],
   "source": [
    "fnames = glob.glob('10032022/*SIM.tif')"
   ]
  },
  {
   "cell_type": "code",
   "execution_count": 16,
   "id": "0ff06d9d",
   "metadata": {},
   "outputs": [
    {
     "data": {
      "text/plain": [
       "['10032022\\\\Image 10_SIM.tif',\n",
       " '10032022\\\\Image 11_SIM.tif',\n",
       " '10032022\\\\Image 12_SIM.tif',\n",
       " '10032022\\\\Image 13_SIM.tif',\n",
       " '10032022\\\\Image 2_SIM.tif',\n",
       " '10032022\\\\Image 3_SIM.tif',\n",
       " '10032022\\\\Image 4_SIM.tif',\n",
       " '10032022\\\\Image 5_SIM.tif',\n",
       " '10032022\\\\Image 6_SIM.tif',\n",
       " '10032022\\\\Image 7_SIM.tif',\n",
       " '10032022\\\\Image 8_SIM.tif',\n",
       " '10032022\\\\Image 9_SIM.tif']"
      ]
     },
     "execution_count": 16,
     "metadata": {},
     "output_type": "execute_result"
    }
   ],
   "source": [
    "fnames"
   ]
  },
  {
   "cell_type": "code",
   "execution_count": 17,
   "id": "662d2712",
   "metadata": {},
   "outputs": [],
   "source": [
    "img = tifffile.imread(fnames[3])"
   ]
  },
  {
   "cell_type": "code",
   "execution_count": 19,
   "id": "0a5bc5dd",
   "metadata": {},
   "outputs": [
    {
     "name": "stdout",
     "output_type": "stream",
     "text": [
      "10032022\\Image 13_SIM.tif\n"
     ]
    },
    {
     "name": "stderr",
     "output_type": "stream",
     "text": [
      "C:\\Users\\smc\\AppData\\Local\\Temp\\ipykernel_11136\\3222335928.py:3: FutureWarning: indices argument is deprecated and will be removed in version 0.20. To avoid this warning, please do not use the indices argument. Please see peak_local_max documentation for more details.\n",
      "  max_peaks = peak_local_max(LoG, indices=True, min_distance=3, threshold_rel=threshold)\n",
      "C:\\Users\\smc\\Anaconda3\\envs\\napari\\lib\\site-packages\\numpy\\core\\numeric.py:2446: FutureWarning: elementwise comparison failed; returning scalar instead, but in the future will perform elementwise comparison\n",
      "  return bool(asarray(a1 == a2).all())\n",
      "C:\\Users\\smc\\Anaconda3\\envs\\napari\\lib\\site-packages\\numpy\\core\\numeric.py:2446: FutureWarning: elementwise comparison failed; returning scalar instead, but in the future will perform elementwise comparison\n",
      "  return bool(asarray(a1 == a2).all())\n"
     ]
    }
   ],
   "source": [
    "fname = fnames[3]\n",
    "print(fname)\n",
    "viewer.layers.clear()\n",
    "find_peaks_in_file(fname, display=True, threshold=0.25)"
   ]
  },
  {
   "cell_type": "code",
   "execution_count": 20,
   "id": "53e30c6b",
   "metadata": {
    "scrolled": true
   },
   "outputs": [
    {
     "name": "stderr",
     "output_type": "stream",
     "text": [
      "C:\\Users\\smc\\AppData\\Local\\Temp\\ipykernel_11136\\3222335928.py:3: FutureWarning: indices argument is deprecated and will be removed in version 0.20. To avoid this warning, please do not use the indices argument. Please see peak_local_max documentation for more details.\n",
      "  max_peaks = peak_local_max(LoG, indices=True, min_distance=3, threshold_rel=threshold)\n",
      "C:\\Users\\smc\\Anaconda3\\envs\\napari\\lib\\zipfile.py:1517: UserWarning: Duplicate name: 'X391.roi'\n",
      "  return self._open_to_write(zinfo, force_zip64=force_zip64)\n",
      "C:\\Users\\smc\\Anaconda3\\envs\\napari\\lib\\zipfile.py:1517: UserWarning: Duplicate name: 'X814.roi'\n",
      "  return self._open_to_write(zinfo, force_zip64=force_zip64)\n",
      "C:\\Users\\smc\\Anaconda3\\envs\\napari\\lib\\zipfile.py:1517: UserWarning: Duplicate name: 'X107.roi'\n",
      "  return self._open_to_write(zinfo, force_zip64=force_zip64)\n",
      "C:\\Users\\smc\\Anaconda3\\envs\\napari\\lib\\zipfile.py:1517: UserWarning: Duplicate name: 'X959.roi'\n",
      "  return self._open_to_write(zinfo, force_zip64=force_zip64)\n",
      "C:\\Users\\smc\\Anaconda3\\envs\\napari\\lib\\zipfile.py:1517: UserWarning: Duplicate name: 'X64.roi'\n",
      "  return self._open_to_write(zinfo, force_zip64=force_zip64)\n",
      "C:\\Users\\smc\\Anaconda3\\envs\\napari\\lib\\zipfile.py:1517: UserWarning: Duplicate name: 'X281.roi'\n",
      "  return self._open_to_write(zinfo, force_zip64=force_zip64)\n",
      "C:\\Users\\smc\\Anaconda3\\envs\\napari\\lib\\zipfile.py:1517: UserWarning: Duplicate name: 'X599.roi'\n",
      "  return self._open_to_write(zinfo, force_zip64=force_zip64)\n",
      "C:\\Users\\smc\\Anaconda3\\envs\\napari\\lib\\zipfile.py:1517: UserWarning: Duplicate name: 'X953.roi'\n",
      "  return self._open_to_write(zinfo, force_zip64=force_zip64)\n",
      "C:\\Users\\smc\\Anaconda3\\envs\\napari\\lib\\zipfile.py:1517: UserWarning: Duplicate name: 'X611.roi'\n",
      "  return self._open_to_write(zinfo, force_zip64=force_zip64)\n",
      "C:\\Users\\smc\\Anaconda3\\envs\\napari\\lib\\zipfile.py:1517: UserWarning: Duplicate name: 'X905.roi'\n",
      "  return self._open_to_write(zinfo, force_zip64=force_zip64)\n",
      "C:\\Users\\smc\\Anaconda3\\envs\\napari\\lib\\zipfile.py:1517: UserWarning: Duplicate name: 'X838.roi'\n",
      "  return self._open_to_write(zinfo, force_zip64=force_zip64)\n",
      "C:\\Users\\smc\\Anaconda3\\envs\\napari\\lib\\zipfile.py:1517: UserWarning: Duplicate name: 'X816.roi'\n",
      "  return self._open_to_write(zinfo, force_zip64=force_zip64)\n",
      "C:\\Users\\smc\\Anaconda3\\envs\\napari\\lib\\zipfile.py:1517: UserWarning: Duplicate name: 'X268.roi'\n",
      "  return self._open_to_write(zinfo, force_zip64=force_zip64)\n",
      "C:\\Users\\smc\\Anaconda3\\envs\\napari\\lib\\zipfile.py:1517: UserWarning: Duplicate name: 'X677.roi'\n",
      "  return self._open_to_write(zinfo, force_zip64=force_zip64)\n",
      "C:\\Users\\smc\\Anaconda3\\envs\\napari\\lib\\zipfile.py:1517: UserWarning: Duplicate name: 'X320.roi'\n",
      "  return self._open_to_write(zinfo, force_zip64=force_zip64)\n",
      "C:\\Users\\smc\\Anaconda3\\envs\\napari\\lib\\zipfile.py:1517: UserWarning: Duplicate name: 'X544.roi'\n",
      "  return self._open_to_write(zinfo, force_zip64=force_zip64)\n",
      "C:\\Users\\smc\\Anaconda3\\envs\\napari\\lib\\zipfile.py:1517: UserWarning: Duplicate name: 'X522.roi'\n",
      "  return self._open_to_write(zinfo, force_zip64=force_zip64)\n",
      "C:\\Users\\smc\\Anaconda3\\envs\\napari\\lib\\zipfile.py:1517: UserWarning: Duplicate name: 'X624.roi'\n",
      "  return self._open_to_write(zinfo, force_zip64=force_zip64)\n",
      "C:\\Users\\smc\\Anaconda3\\envs\\napari\\lib\\zipfile.py:1517: UserWarning: Duplicate name: 'X628.roi'\n",
      "  return self._open_to_write(zinfo, force_zip64=force_zip64)\n",
      "C:\\Users\\smc\\Anaconda3\\envs\\napari\\lib\\zipfile.py:1517: UserWarning: Duplicate name: 'X692.roi'\n",
      "  return self._open_to_write(zinfo, force_zip64=force_zip64)\n",
      "C:\\Users\\smc\\Anaconda3\\envs\\napari\\lib\\zipfile.py:1517: UserWarning: Duplicate name: 'X936.roi'\n",
      "  return self._open_to_write(zinfo, force_zip64=force_zip64)\n",
      "C:\\Users\\smc\\Anaconda3\\envs\\napari\\lib\\zipfile.py:1517: UserWarning: Duplicate name: 'X121.roi'\n",
      "  return self._open_to_write(zinfo, force_zip64=force_zip64)\n",
      "C:\\Users\\smc\\Anaconda3\\envs\\napari\\lib\\zipfile.py:1517: UserWarning: Duplicate name: 'X157.roi'\n",
      "  return self._open_to_write(zinfo, force_zip64=force_zip64)\n"
     ]
    }
   ],
   "source": [
    "for f in fnames:\n",
    "    find_peaks_in_file(f, False, threshold=0.25)"
   ]
  },
  {
   "cell_type": "code",
   "execution_count": null,
   "id": "7e08339a",
   "metadata": {},
   "outputs": [],
   "source": []
  }
 ],
 "metadata": {
  "kernelspec": {
   "display_name": "Python 3 (ipykernel)",
   "language": "python",
   "name": "python3"
  },
  "language_info": {
   "codemirror_mode": {
    "name": "ipython",
    "version": 3
   },
   "file_extension": ".py",
   "mimetype": "text/x-python",
   "name": "python",
   "nbconvert_exporter": "python",
   "pygments_lexer": "ipython3",
   "version": "3.8.13"
  }
 },
 "nbformat": 4,
 "nbformat_minor": 5
}
